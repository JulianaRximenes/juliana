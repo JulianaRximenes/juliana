{
 "cells": [
  {
   "cell_type": "code",
   "execution_count": 6,
   "metadata": {},
   "outputs": [
    {
     "name": "stdout",
     "output_type": "stream",
     "text": [
      "hentique está no peso ideal.\n"
     ]
    }
   ],
   "source": [
    "while True:\n",
    "    nome = str(input('digite seu nome ou aperte entrer para parar'))\n",
    "    \n",
    "    if nome !='':\n",
    "        peso = str(input('digite seu peso'))\n",
    "        altura = str(input('digite sua altura'))\n",
    "        imc = float(peso)/float(altura)**2\n",
    "        \n",
    "        if imc < 17:\n",
    "            print(f'{nome} está com anorexia.')\n",
    "        elif imc < 18.5:\n",
    "            print(f'{nome} está abaixo do peso.')\n",
    "        elif imc < 25:\n",
    "            print(f'{nome} está no peso ideal.')\n",
    "        elif imc < 30:\n",
    "            print(f'{nome} está acima do peso.')\n",
    "        elif imc < 35:\n",
    "            print(f'{nome} está com grau de obesidade I.')\n",
    "        elif imc < 40:\n",
    "            print(f'{nome} está com grau de obesidade II.')\n",
    "        else:\n",
    "             print(f'{nome} está com grau de obesidade mórbida.')\n",
    "    else:\n",
    "        break\n",
    "\n"
   ]
  },
  {
   "cell_type": "markdown",
   "metadata": {},
   "source": [
    "imc= peso/altura**2"
   ]
  }
 ],
 "metadata": {
  "kernelspec": {
   "display_name": "Python 3",
   "language": "python",
   "name": "python3"
  },
  "language_info": {
   "codemirror_mode": {
    "name": "ipython",
    "version": 3
   },
   "file_extension": ".py",
   "mimetype": "text/x-python",
   "name": "python",
   "nbconvert_exporter": "python",
   "pygments_lexer": "ipython3",
   "version": "3.12.4"
  }
 },
 "nbformat": 4,
 "nbformat_minor": 2
}
